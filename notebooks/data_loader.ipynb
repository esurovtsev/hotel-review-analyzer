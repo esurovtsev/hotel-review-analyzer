{
 "cells": [
  {
   "cell_type": "markdown",
   "metadata": {},
   "source": [
    "# Data Loading and Cleaning for Hotel Reviews\n",
    "This notebook demonstrates the process of:\n",
    "1. Loading the dataset.\n",
    "2. Cleaning the data (e.g., handling missing values).\n",
    "3. Saving the cleaned data for further analysis."
   ]
  },
  {
   "cell_type": "code",
   "execution_count": 2,
   "metadata": {},
   "outputs": [
    {
     "name": "stdout",
     "output_type": "stream",
     "text": [
      "Libraries loaded successfully.\n"
     ]
    }
   ],
   "source": [
    "# Importing necessary libraries\n",
    "import pandas as pd\n",
    "\n",
    "print(\"Libraries loaded successfully.\")"
   ]
  },
  {
   "cell_type": "markdown",
   "metadata": {},
   "source": [
    "## Step 1: Load the Dataset\n",
    "We will load the hotel reviews dataset from a CSV file. The raw file is located in the `data/raw/reviews.csv`."
   ]
  },
  {
   "cell_type": "code",
   "execution_count": 3,
   "metadata": {},
   "outputs": [
    {
     "data": {
      "text/html": [
       "<div>\n",
       "<style scoped>\n",
       "    .dataframe tbody tr th:only-of-type {\n",
       "        vertical-align: middle;\n",
       "    }\n",
       "\n",
       "    .dataframe tbody tr th {\n",
       "        vertical-align: top;\n",
       "    }\n",
       "\n",
       "    .dataframe thead th {\n",
       "        text-align: right;\n",
       "    }\n",
       "</style>\n",
       "<table border=\"1\" class=\"dataframe\">\n",
       "  <thead>\n",
       "    <tr style=\"text-align: right;\">\n",
       "      <th></th>\n",
       "      <th>ratings</th>\n",
       "      <th>title</th>\n",
       "      <th>text</th>\n",
       "      <th>author</th>\n",
       "      <th>date_stayed</th>\n",
       "      <th>offering_id</th>\n",
       "      <th>num_helpful_votes</th>\n",
       "      <th>date</th>\n",
       "      <th>id</th>\n",
       "      <th>via_mobile</th>\n",
       "    </tr>\n",
       "  </thead>\n",
       "  <tbody>\n",
       "    <tr>\n",
       "      <th>0</th>\n",
       "      <td>{'service': 5.0, 'cleanliness': 5.0, 'overall'...</td>\n",
       "      <td>“Truly is \"Jewel of the Upper Wets Side\"”</td>\n",
       "      <td>Stayed in a king suite for 11 nights and yes i...</td>\n",
       "      <td>{'username': 'Papa_Panda', 'num_cities': 22, '...</td>\n",
       "      <td>December 2012</td>\n",
       "      <td>93338</td>\n",
       "      <td>0</td>\n",
       "      <td>2012-12-17</td>\n",
       "      <td>147643103</td>\n",
       "      <td>False</td>\n",
       "    </tr>\n",
       "    <tr>\n",
       "      <th>1</th>\n",
       "      <td>{'service': 5.0, 'cleanliness': 5.0, 'overall'...</td>\n",
       "      <td>“My home away from home!”</td>\n",
       "      <td>On every visit to NYC, the Hotel Beacon is the...</td>\n",
       "      <td>{'username': 'Maureen V', 'num_reviews': 2, 'n...</td>\n",
       "      <td>December 2012</td>\n",
       "      <td>93338</td>\n",
       "      <td>0</td>\n",
       "      <td>2012-12-17</td>\n",
       "      <td>147639004</td>\n",
       "      <td>False</td>\n",
       "    </tr>\n",
       "    <tr>\n",
       "      <th>2</th>\n",
       "      <td>{'service': 4.0, 'cleanliness': 5.0, 'overall'...</td>\n",
       "      <td>“Great Stay”</td>\n",
       "      <td>This is a great property in Midtown. We two di...</td>\n",
       "      <td>{'username': 'vuguru', 'num_cities': 12, 'num_...</td>\n",
       "      <td>December 2012</td>\n",
       "      <td>1762573</td>\n",
       "      <td>0</td>\n",
       "      <td>2012-12-18</td>\n",
       "      <td>147697954</td>\n",
       "      <td>False</td>\n",
       "    </tr>\n",
       "    <tr>\n",
       "      <th>3</th>\n",
       "      <td>{'service': 5.0, 'cleanliness': 5.0, 'overall'...</td>\n",
       "      <td>“Modern Convenience”</td>\n",
       "      <td>The Andaz is a nice hotel in a central locatio...</td>\n",
       "      <td>{'username': 'Hotel-Designer', 'num_cities': 5...</td>\n",
       "      <td>August 2012</td>\n",
       "      <td>1762573</td>\n",
       "      <td>0</td>\n",
       "      <td>2012-12-17</td>\n",
       "      <td>147625723</td>\n",
       "      <td>False</td>\n",
       "    </tr>\n",
       "    <tr>\n",
       "      <th>4</th>\n",
       "      <td>{'service': 4.0, 'cleanliness': 5.0, 'overall'...</td>\n",
       "      <td>“Its the best of the Andaz Brand in the US....”</td>\n",
       "      <td>I have stayed at each of the US Andaz properti...</td>\n",
       "      <td>{'username': 'JamesE339', 'num_cities': 34, 'n...</td>\n",
       "      <td>December 2012</td>\n",
       "      <td>1762573</td>\n",
       "      <td>0</td>\n",
       "      <td>2012-12-17</td>\n",
       "      <td>147612823</td>\n",
       "      <td>False</td>\n",
       "    </tr>\n",
       "  </tbody>\n",
       "</table>\n",
       "</div>"
      ],
      "text/plain": [
       "                                             ratings  \\\n",
       "0  {'service': 5.0, 'cleanliness': 5.0, 'overall'...   \n",
       "1  {'service': 5.0, 'cleanliness': 5.0, 'overall'...   \n",
       "2  {'service': 4.0, 'cleanliness': 5.0, 'overall'...   \n",
       "3  {'service': 5.0, 'cleanliness': 5.0, 'overall'...   \n",
       "4  {'service': 4.0, 'cleanliness': 5.0, 'overall'...   \n",
       "\n",
       "                                             title  \\\n",
       "0        “Truly is \"Jewel of the Upper Wets Side\"”   \n",
       "1                        “My home away from home!”   \n",
       "2                                     “Great Stay”   \n",
       "3                             “Modern Convenience”   \n",
       "4  “Its the best of the Andaz Brand in the US....”   \n",
       "\n",
       "                                                text  \\\n",
       "0  Stayed in a king suite for 11 nights and yes i...   \n",
       "1  On every visit to NYC, the Hotel Beacon is the...   \n",
       "2  This is a great property in Midtown. We two di...   \n",
       "3  The Andaz is a nice hotel in a central locatio...   \n",
       "4  I have stayed at each of the US Andaz properti...   \n",
       "\n",
       "                                              author    date_stayed  \\\n",
       "0  {'username': 'Papa_Panda', 'num_cities': 22, '...  December 2012   \n",
       "1  {'username': 'Maureen V', 'num_reviews': 2, 'n...  December 2012   \n",
       "2  {'username': 'vuguru', 'num_cities': 12, 'num_...  December 2012   \n",
       "3  {'username': 'Hotel-Designer', 'num_cities': 5...    August 2012   \n",
       "4  {'username': 'JamesE339', 'num_cities': 34, 'n...  December 2012   \n",
       "\n",
       "   offering_id  num_helpful_votes        date         id  via_mobile  \n",
       "0        93338                  0  2012-12-17  147643103       False  \n",
       "1        93338                  0  2012-12-17  147639004       False  \n",
       "2      1762573                  0  2012-12-18  147697954       False  \n",
       "3      1762573                  0  2012-12-17  147625723       False  \n",
       "4      1762573                  0  2012-12-17  147612823       False  "
      ]
     },
     "execution_count": 3,
     "metadata": {},
     "output_type": "execute_result"
    }
   ],
   "source": [
    "# Define file path\n",
    "file_path = \"../data/raw/reviews.csv\"\n",
    "\n",
    "# Load the dataset\n",
    "data = pd.read_csv(file_path)\n",
    "\n",
    "# Display the first few rows\n",
    "data.head()"
   ]
  },
  {
   "cell_type": "markdown",
   "metadata": {},
   "source": [
    "## Step 2: Filtering for AI Analysis\n",
    "\n",
    "In this step, we prepare the dataset by applying multiple filters to retain only high-quality and relevant reviews. The dataset will be used for AI-based analysis in subsequent steps. Specifically, we will:\n",
    "\n",
    "1. **Extract and Filter by `overall` Rating**:\n",
    "   - Extract the `overall` value from the JSON-like `ratings` field (example: {'service': 5.0, 'cleanliness': 5.0, 'overall': 5.0, 'value': 5.0, 'location': 5.0, 'sleep_quality': 5.0, 'rooms': 5.0}).\n",
    "   - Retain only reviews with an `overall` rating of 2 or 3, as they provide balanced feedback.\n",
    "\n",
    "2. **Filter Non-Empty `text` Field**:\n",
    "   - Ensure the `text` field is non-empty and contains meaningful content.\n",
    "\n",
    "3. **Filter Valid `date_stayed` Field**:\n",
    "   - Retain rows with a valid `date_stayed` value for potential timeline context.\n",
    "   - Convert the `date_stayed` field to a standard datetime format.\n",
    "\n",
    "4. **Prioritize by `num_helpful_votes`**:\n",
    "   - Include only reviews with `num_helpful_votes` greater than or equal to a defined threshold (e.g., 5) to focus on valuable reviews.\n",
    "\n",
    "5. **Save the Filtered Dataset**:\n",
    "   - Write the filtered rows directly to a new CSV file chunk by chunk, ensuring efficient processing of the large dataset.\n",
    "\n",
    "This step ensures the dataset is clean, structured, and ready for analysis by AI models."
   ]
  },
  {
   "cell_type": "code",
   "execution_count": 6,
   "metadata": {},
   "outputs": [
    {
     "name": "stdout",
     "output_type": "stream",
     "text": [
      "5.0\n"
     ]
    }
   ],
   "source": [
    "import ast\n",
    "\n",
    "# Function to extract the `overall` rating\n",
    "def extract_overall_rating(rating_str):\n",
    "    \"\"\"\n",
    "    Extracts the 'overall' rating from the JSON-like string in the 'ratings' column.\n",
    "    \"\"\"\n",
    "    try:\n",
    "        rating_dict = ast.literal_eval(rating_str)  # Convert string to dictionary\n",
    "        return rating_dict.get('overall', None)  # Extract the 'overall' value\n",
    "    except (ValueError, SyntaxError):\n",
    "        return None  # Handle parsing errors gracefully\n",
    "\n",
    "\n",
    "print(extract_overall_rating(\"{'service': 5.0, 'cleanliness': 5.0, 'overall': 5.0, 'value': 5.0, 'location': 5.0, 'sleep_quality': 5.0, 'rooms': 5.0}\"))"
   ]
  },
  {
   "cell_type": "code",
   "execution_count": 7,
   "metadata": {},
   "outputs": [
    {
     "name": "stdout",
     "output_type": "stream",
     "text": [
      "Filtered data saved to ../data/processed/hotel_reviews_filtered.csv\n"
     ]
    }
   ],
   "source": [
    "# File paths\n",
    "input_file = \"../data/raw/reviews.csv\"\n",
    "output_file = \"../data/processed/hotel_reviews_filtered.csv\"\n",
    "\n",
    "# Parameters\n",
    "chunk_size = 100000  # Process file in chunks\n",
    "write_header = True  # Write header for the first chunk only\n",
    "helpful_votes_threshold = 5  # Minimum number of helpful votes for inclusion\n",
    "\n",
    "# Process the CSV file chunk by chunk\n",
    "for chunk in pd.read_csv(input_file, chunksize=chunk_size):\n",
    "    # Extract the `overall` rating\n",
    "    chunk['overall'] = chunk['ratings'].apply(lambda x: extract_overall_rating(x) if isinstance(x, str) else None)\n",
    "\n",
    "    # Filter rows based on `overall` rating\n",
    "    filtered_chunk = chunk[(chunk['overall'] == 2) | (chunk['overall'] == 3)]\n",
    "\n",
    "    # Filter rows with non-empty `text`\n",
    "    filtered_chunk = filtered_chunk.dropna(subset=['text'])\n",
    "    filtered_chunk = filtered_chunk[filtered_chunk['text'].str.strip() != \"\"]\n",
    "\n",
    "    # Filter rows with valid `date_stayed`\n",
    "    filtered_chunk = filtered_chunk.dropna(subset=['date_stayed'])  # Ensure no null values before parsing\n",
    "\n",
    "    # Convert `date_stayed` to datetime format (Month Year)\n",
    "    filtered_chunk['date_stayed'] = pd.to_datetime(\n",
    "        filtered_chunk['date_stayed'], format='%B %Y', errors='coerce'\n",
    "    )\n",
    "\n",
    "    # Drop rows where `date_stayed` could not be parsed\n",
    "    filtered_chunk = filtered_chunk.dropna(subset=['date_stayed'])\n",
    "\n",
    "    # Filter rows with `num_helpful_votes` greater than the threshold\n",
    "    filtered_chunk = filtered_chunk[filtered_chunk['num_helpful_votes'] >= helpful_votes_threshold]\n",
    "\n",
    "    # Append the filtered chunk to the output CSV\n",
    "    filtered_chunk.to_csv(output_file, mode='a', header=write_header, index=False)\n",
    "\n",
    "    # After the first chunk, set header to False\n",
    "    write_header = False\n",
    "\n",
    "print(f\"Filtered data saved to {output_file}\")"
   ]
  }
 ],
 "metadata": {
  "kernelspec": {
   "display_name": ".venv",
   "language": "python",
   "name": "python3"
  },
  "language_info": {
   "codemirror_mode": {
    "name": "ipython",
    "version": 3
   },
   "file_extension": ".py",
   "mimetype": "text/x-python",
   "name": "python",
   "nbconvert_exporter": "python",
   "pygments_lexer": "ipython3",
   "version": "3.13.1"
  }
 },
 "nbformat": 4,
 "nbformat_minor": 2
}
